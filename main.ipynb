{
 "cells": [
  {
   "cell_type": "code",
   "execution_count": 4,
   "metadata": {},
   "outputs": [],
   "source": [
    "import numpy as np\n",
    "import matplotlib.pyplot as plt"
   ]
  },
  {
   "cell_type": "code",
   "execution_count": null,
   "metadata": {},
   "outputs": [],
   "source": [
    "class Dot:\n",
    "    def __init__(self, x, y, z, marker='.', size=2, color='white', edge_color='none'):\n",
    "        self.position = np.array((x, y, z, 1)).T\n",
    "        self.color = color\n",
    "        self.size = size\n",
    "        self.marker = marker\n",
    "        self.edge_color = edge_color\n",
    "\n",
    "    def draw(self, ax):\n",
    "        x = self.position[0]\n",
    "        y = self.position[1]\n",
    "        \n",
    "        marker_style = dict(marker=self.marker, markersize=self.size, color=self.color, markeredgecolor=self.edge_color)\n",
    "\n",
    "        ax.plot(x, y, **marker_style)\n",
    "\n",
    "    def transform(self, transformation):\n",
    "        self.position = transformation.apply(self.position)\n",
    "\n",
    "class Translation:\n",
    "    def __init__(self, x=0, y=0, z=0):\n",
    "        self.matrix = np.array([\n",
    "            [1, 0, 0, x],\n",
    "            [0, 1, 0, y],\n",
    "            [0, 0, 1, z],\n",
    "            [0, 0, 0, 1]\n",
    "        ])\n",
    "\n",
    "    def apply(self, point):\n",
    "        return np.dot(self.matrix, point)\n",
    "\n",
    "fig, ax = plt.subplots()\n",
    "\n",
    "ax.set_xlim(-5, 5)\n",
    "ax.set_ylim(-5, 5)\n",
    "\n",
    "d1 = Dot(0, 0, 0, color='black', marker='o', size=9)\n",
    "d2 = Dot(0, 0, 0, color='red', marker='o', size=9)\n",
    "d3 = Dot(0, 0, 0, color='green', marker='o', size=9)\n",
    "d4 = Dot(0, 0, 0, color='blue', marker='o', size=9)\n",
    "\n",
    "d2.transform(Translation(x=2))\n",
    "d3.transform(Translation(x=-2))\n",
    "d4.transform(Translation(y=2))\n",
    "\n",
    "d1.draw(ax)\n",
    "d2.draw(ax)\n",
    "d3.draw(ax)\n",
    "d4.draw(ax)"
   ]
  }
 ],
 "metadata": {
  "kernelspec": {
   "display_name": ".venv",
   "language": "python",
   "name": "python3"
  },
  "language_info": {
   "codemirror_mode": {
    "name": "ipython",
    "version": 3
   },
   "file_extension": ".py",
   "mimetype": "text/x-python",
   "name": "python",
   "nbconvert_exporter": "python",
   "pygments_lexer": "ipython3",
   "version": "3.12.3"
  }
 },
 "nbformat": 4,
 "nbformat_minor": 2
}

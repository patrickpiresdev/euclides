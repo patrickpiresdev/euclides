{
 "cells": [
  {
   "cell_type": "markdown",
   "metadata": {},
   "source": [
    "# imports"
   ]
  },
  {
   "cell_type": "code",
   "execution_count": null,
   "metadata": {},
   "outputs": [],
   "source": [
    "import numpy as np\n",
    "import matplotlib.pyplot as plt"
   ]
  },
  {
   "cell_type": "markdown",
   "metadata": {},
   "source": [
    "# `Dot` class definition"
   ]
  },
  {
   "cell_type": "code",
   "execution_count": null,
   "metadata": {},
   "outputs": [],
   "source": [
    "class Dot:\n",
    "    # todo: maybe the dot class is unnecessary and can be done with a circle when there is one\n",
    "    def __init__(self, x, y, z, marker='.', size=2, color='white', edge_color='none'):\n",
    "        self.position = np.array((x, y, z, 1)).T\n",
    "        self.color = color\n",
    "        self.size = size\n",
    "        self.marker = marker\n",
    "        self.edge_color = edge_color\n",
    "\n",
    "    def draw(self, ax):\n",
    "        x = self.position[0]\n",
    "        y = self.position[1]\n",
    "\n",
    "        marker_style = dict(marker=self.marker, markersize=self.size, color=self.color, markeredgecolor=self.edge_color)\n",
    "\n",
    "        ax.plot(x, y, **marker_style)\n",
    "\n",
    "    def transform(self, transformation):\n",
    "        self.position = transformation.apply(self.position)\n",
    "    \n",
    "    def copy(self):\n",
    "        c = Dot(*self.position[:3])\n",
    "        c.color = self.color\n",
    "        c.size = self.size\n",
    "        c.marker = self.marker\n",
    "        c.edge_color = self.edge_color\n",
    "        return c\n",
    "    \n",
    "    def set_color(self, c):\n",
    "        self.color = c\n"
   ]
  },
  {
   "cell_type": "markdown",
   "metadata": {},
   "source": [
    "# `Line` class definition"
   ]
  },
  {
   "cell_type": "code",
   "execution_count": null,
   "metadata": {},
   "outputs": [],
   "source": [
    "class Line:\n",
    "    def __init__(self, size=1, width=2, color='white'):\n",
    "        half = size / 2\n",
    "        self.points = np.array([(-half, 0, 0, 1), (half, 0, 0, 1)]).T\n",
    "        self.width = width\n",
    "        self.color = color\n",
    "\n",
    "    def draw(self, ax):\n",
    "        xs = self.points[0]\n",
    "        ys = self.points[1]\n",
    "\n",
    "        ax.plot(xs, ys, color=self.color, linewidth=self.width)\n",
    "\n",
    "    def transform(self, transformation):\n",
    "        self.points = transformation.apply(self.points)"
   ]
  },
  {
   "cell_type": "markdown",
   "metadata": {},
   "source": [
    "# transformations definitions"
   ]
  },
  {
   "cell_type": "code",
   "execution_count": null,
   "metadata": {},
   "outputs": [],
   "source": [
    "\n",
    "\n",
    "class Transformation:\n",
    "    def apply(self, points):\n",
    "        # todo: alterar nome `points`, pois pode ser outra transformacao\n",
    "        return np.dot(self.matrix, points)\n",
    "\n",
    "\n",
    "class Translation(Transformation):\n",
    "    def __init__(self, x=0, y=0, z=0):\n",
    "        self.matrix = np.array([\n",
    "            [1, 0, 0, x],\n",
    "            [0, 1, 0, y],\n",
    "            [0, 0, 1, z],\n",
    "            [0, 0, 0, 1]\n",
    "        ])\n",
    "\n",
    "\n",
    "class Rotation(Transformation):\n",
    "    def __init__(self, angle, x=False, y=False):\n",
    "        # angle: angulo em graus\n",
    "        # rotacao default em relacao a z\n",
    "        angle_rad = angle*np.pi / 180\n",
    "        \n",
    "        if x:\n",
    "            self.matrix = self.x_rotation(angle_rad)\n",
    "        elif y:\n",
    "            self.matrix = self.y_rotation(angle_rad)\n",
    "        else:\n",
    "            self.matrix = self.z_rotation(angle_rad)\n",
    "\n",
    "    \n",
    "    def x_rotation(self, deg):\n",
    "        sin = np.sin(deg)\n",
    "        cos = np.cos(deg)\n",
    "\n",
    "        return np.array([\n",
    "            [1,  0 ,   0 , 0],\n",
    "            [0, cos, -sin, 0],\n",
    "            [0, sin,  cos, 0],\n",
    "            [0,  0,    0,  1]\n",
    "        ])\n",
    "    \n",
    "    def y_rotation(self, deg):\n",
    "        sin = np.sin(deg)\n",
    "        cos = np.cos(deg)\n",
    "\n",
    "        return np.array([\n",
    "            [ cos, 0, sin, 0],\n",
    "            [  0,  1,  0 , 0],\n",
    "            [-sin, 0, cos, 0],\n",
    "            [  0,  0,  0,  1]\n",
    "        ])\n",
    "    \n",
    "    def z_rotation(self, deg):\n",
    "        sin = np.sin(deg)\n",
    "        cos = np.cos(deg)\n",
    "\n",
    "        return np.array([\n",
    "            [cos, -sin, 0, 0],\n",
    "            [sin,  cos, 0, 0],\n",
    "            [0,     0,  1, 0],\n",
    "            [0,     0,  0, 1]\n",
    "        ])\n",
    "\n",
    "\n",
    "class Scale(Transformation):\n",
    "    def __init__(self, x=1, y=1, z=1):\n",
    "        self.matrix = np.array([\n",
    "            [x, 0, 0, 0],\n",
    "            [0, y, 0, 0],\n",
    "            [0, 0, z, 0],\n",
    "            [0, 0, 0, 1]\n",
    "        ])\n",
    "\n",
    "\n",
    "class Perspective(Transformation):\n",
    "    def __init__(self, x=0, y=0, z=0):\n",
    "        self.matrix = np.array([\n",
    "            [1, 0, 0, 0],\n",
    "            [0, 1, 0, 0],\n",
    "            [0, 0, 1, 0],\n",
    "            [x, y, z, 1]\n",
    "        ])\n",
    "    \n",
    "    def apply(self, points):\n",
    "        ps = super().apply(points)\n",
    "        last = ps[3]\n",
    "        # normaliza\n",
    "        return ps / last\n",
    "\n"
   ]
  },
  {
   "cell_type": "markdown",
   "metadata": {},
   "source": [
    "# experiment 1 - `Dot` with translation and rotation"
   ]
  },
  {
   "cell_type": "code",
   "execution_count": null,
   "metadata": {},
   "outputs": [],
   "source": [
    "fig, ax = plt.subplots()\n",
    "\n",
    "ax.set_xlim(-5, 5)\n",
    "ax.set_ylim(-5, 5)\n",
    "\n",
    "d1 = Dot(0, 0, 0, color='black', marker='o', size=9)\n",
    "\n",
    "d2 = d1.copy()\n",
    "d2.set_color('red')\n",
    "\n",
    "d2.transform(Translation(x=2))\n",
    "d2.transform(Rotation(y=90))\n",
    "\n",
    "perspective = Perspective(x=0, y=0, z=0)\n",
    "d1.transform(perspective)\n",
    "d2.transform(perspective)\n",
    "\n",
    "d1.draw(ax)\n",
    "d2.draw(ax)"
   ]
  },
  {
   "cell_type": "markdown",
   "metadata": {},
   "source": [
    "# experiment 2 - perspective"
   ]
  },
  {
   "cell_type": "code",
   "execution_count": null,
   "metadata": {},
   "outputs": [],
   "source": [
    "fig, ax = plt.subplots()\n",
    "\n",
    "ax.set_xlim(-5, 5)\n",
    "ax.set_ylim(-5, 5)\n",
    "\n",
    "line1 = np.array([(-1, -4, 0, 1), (-1, 4, 0, 1)]).T\n",
    "line2 = np.array([(1, -4, 0, 1), (1, 4, 0, 1)]).T\n",
    "\n",
    "translation = Translation(y=2)\n",
    "line1 = translation.apply(line1)\n",
    "line2 = translation.apply(line2)\n",
    "\n",
    "perspective = Perspective(y=0.4)\n",
    "line1 = perspective.apply(line1)\n",
    "line2 = perspective.apply(line2)\n",
    "\n",
    "ax.plot(line1[0], line1[1])\n",
    "ax.plot(line2[0], line2[1])"
   ]
  },
  {
   "cell_type": "markdown",
   "metadata": {},
   "source": [
    "# experiment 3 - `Line` with translation, rotation and scaling"
   ]
  },
  {
   "cell_type": "code",
   "execution_count": null,
   "metadata": {},
   "outputs": [],
   "source": [
    "line = Line(color='black')\n",
    "\n",
    "fig, ax = plt.subplots()\n",
    "\n",
    "ax.set_xlim(-5, 5)\n",
    "ax.set_ylim(-5, 5)\n",
    "\n",
    "line.transform(Scale(x=2))\n",
    "\n",
    "print(line.points)\n",
    "\n",
    "line.draw(ax)"
   ]
  }
 ],
 "metadata": {
  "kernelspec": {
   "display_name": ".venv",
   "language": "python",
   "name": "python3"
  },
  "language_info": {
   "codemirror_mode": {
    "name": "ipython",
    "version": 3
   },
   "file_extension": ".py",
   "mimetype": "text/x-python",
   "name": "python",
   "nbconvert_exporter": "python",
   "pygments_lexer": "ipython3",
   "version": "3.12.3"
  }
 },
 "nbformat": 4,
 "nbformat_minor": 2
}

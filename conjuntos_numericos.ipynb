{
 "cells": [
  {
   "cell_type": "markdown",
   "id": "4751a6fe",
   "metadata": {},
   "source": [
    "# Conjuntos Numéricos"
   ]
  },
  {
   "cell_type": "markdown",
   "id": "99d327cf",
   "metadata": {},
   "source": [
    "O nome desse tópico é tão simples de entender quanto o tópico em si. Ele trata de nada mais nada menos do que agrupamentos de números."
   ]
  }
 ],
 "metadata": {
  "language_info": {
   "name": "python"
  }
 },
 "nbformat": 4,
 "nbformat_minor": 5
}
